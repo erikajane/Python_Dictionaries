{
 "cells": [
  {
   "cell_type": "markdown",
   "metadata": {},
   "source": [
    "# What is A Python Dictionary"
   ]
  },
  {
   "cell_type": "markdown",
   "metadata": {},
   "source": [
    "A Python dictionary is a data type that holds a collection of key-value pairs. A dictionary is similar to a list, but instead of each element containing a single value, each element is a key-value pair. Another difference between a dicionary and a list is that the contents of a dictionary are wrapped in curly braces {}, whereas the contents of a list are wrapped in brackets [ ]. A key-value pair is seperated by a colon (:) and each key-value pair is seperated by a comma. The format of a dictionary can be seen below:"
   ]
  },
  {
   "cell_type": "code",
   "execution_count": null,
   "metadata": {},
   "outputs": [],
   "source": [
    "dict = {key1 : value1,\n",
    "        key2 : value2,\n",
    "        key3 : value3}"
   ]
  },
  {
   "cell_type": "markdown",
   "metadata": {},
   "source": [
    "The keys in a dictionary must be unique and cannot be repeated within the same dictionary. A key must be an immutable object (int, float, unicode, string (sequence of unicode), tuple, bool). Keys are also case sensitive and 'KeyName' and 'keyname' would be treated as different keys within a dictionary. Values do not need to be unique within a dictionary and can be repeated for different keys. A value can be any datatype."
   ]
  },
  {
   "cell_type": "markdown",
   "metadata": {},
   "source": [
    "## How to Create a Dictionary in Python"
   ]
  },
  {
   "cell_type": "markdown",
   "metadata": {},
   "source": [
    "To create an empty dictionary, you simply assign a variable name to a pair of curly braces __{ }__."
   ]
  },
  {
   "cell_type": "code",
   "execution_count": 1,
   "metadata": {},
   "outputs": [],
   "source": [
    "# Create an empty dictionary\n",
    "\n",
    "my_dict = {}"
   ]
  },
  {
   "cell_type": "markdown",
   "metadata": {},
   "source": [
    "When we check the data type of __my_dict__ we can see that python recognizes __my_dict__ as a __dict__ aka, a dictionary."
   ]
  },
  {
   "cell_type": "code",
   "execution_count": 2,
   "metadata": {},
   "outputs": [
    {
     "data": {
      "text/plain": [
       "dict"
      ]
     },
     "execution_count": 2,
     "metadata": {},
     "output_type": "execute_result"
    }
   ],
   "source": [
    "type(my_dict)"
   ]
  },
  {
   "cell_type": "markdown",
   "metadata": {},
   "source": [
    "To create a dictionary that contains key-value pairs, you would simply insert the key-value pairs between the curly braces. Each element in the dictionary must have a key and a corresponding value. Key-value pairs are seperated by a colon ( : ) and each key-value pair is seperated by a comma ( , ). The following dictionary maps the name of a child to their corresponding age:"
   ]
  },
  {
   "cell_type": "code",
   "execution_count": 22,
   "metadata": {},
   "outputs": [
    {
     "data": {
      "text/plain": [
       "{'Alex': 5, 'Ben': 10, 'Carly': 12, 'Danielle': 7, 'Evan': 6}"
      ]
     },
     "execution_count": 22,
     "metadata": {},
     "output_type": "execute_result"
    }
   ],
   "source": [
    "# Create a dictionary\n",
    "\n",
    "my_dict = {'Alex': 5,\n",
    "           'Ben' : 10,\n",
    "           'Carly': 12,\n",
    "           'Danielle': 7,\n",
    "           'Evan' : 6}\n",
    "my_dict"
   ]
  },
  {
   "cell_type": "markdown",
   "metadata": {},
   "source": [
    "To create a dictionary, you may also use the bulilt-in __dict( )__ function. You would insert a list of tuples, each containing a key-value pair, within the function. The below dictionary is created with the __dict( )__ function. "
   ]
  },
  {
   "cell_type": "code",
   "execution_count": 23,
   "metadata": {},
   "outputs": [
    {
     "data": {
      "text/plain": [
       "{'Alex': 5, 'Ben': 10, 'Carly': 12, 'Danielle': 7, 'Evan': 6}"
      ]
     },
     "execution_count": 23,
     "metadata": {},
     "output_type": "execute_result"
    }
   ],
   "source": [
    "# Create a dictionary\n",
    "\n",
    "my_dict = dict([('Alex', 5),\n",
    "                ('Ben', 10),\n",
    "                ('Carly', 12),\n",
    "                ('Danielle', 7),\n",
    "                ('Evan', 6)])\n",
    "my_dict"
   ]
  },
  {
   "cell_type": "markdown",
   "metadata": {},
   "source": [
    "# How to Access Elements in a Dictionary"
   ]
  },
  {
   "cell_type": "markdown",
   "metadata": {},
   "source": [
    "To access a value from within a dicitonary, you clarify what dictionary you are accessing data from and then wrapped in brackets [ ], the name of the key from the dictionary, __dictionary_name[key]__. To see how old Carly is, we would type the name of the dictionary with the names and ages of childeren, __my_dict__, and then specify the key name we want to retrieve the value for, __'Carly'__, inside brackets."
   ]
  },
  {
   "cell_type": "code",
   "execution_count": 24,
   "metadata": {},
   "outputs": [
    {
     "data": {
      "text/plain": [
       "12"
      ]
     },
     "execution_count": 24,
     "metadata": {},
     "output_type": "execute_result"
    }
   ],
   "source": [
    "# Retrieve Carly's age\n",
    "\n",
    "my_dict['Carly']"
   ]
  },
  {
   "cell_type": "markdown",
   "metadata": {},
   "source": [
    "If you try to retrieve a key that is not in the dictionary, python will raise an error."
   ]
  },
  {
   "cell_type": "code",
   "execution_count": 25,
   "metadata": {},
   "outputs": [
    {
     "ename": "KeyError",
     "evalue": "'Sam'",
     "output_type": "error",
     "traceback": [
      "\u001b[0;31m---------------------------------------------------------------------------\u001b[0m",
      "\u001b[0;31mKeyError\u001b[0m                                  Traceback (most recent call last)",
      "\u001b[0;32m<ipython-input-25-a78bec46c6d4>\u001b[0m in \u001b[0;36m<module>\u001b[0;34m\u001b[0m\n\u001b[0;32m----> 1\u001b[0;31m \u001b[0mmy_dict\u001b[0m\u001b[0;34m[\u001b[0m\u001b[0;34m'Sam'\u001b[0m\u001b[0;34m]\u001b[0m\u001b[0;34m\u001b[0m\u001b[0;34m\u001b[0m\u001b[0m\n\u001b[0m",
      "\u001b[0;31mKeyError\u001b[0m: 'Sam'"
     ]
    }
   ],
   "source": [
    "my_dict['Sam']"
   ]
  },
  {
   "cell_type": "markdown",
   "metadata": {},
   "source": [
    "To access a value from a dictionary you can also use the __get()__ method. The get method will return the value of a specified key from a dictionary. To retrieve Carly's age from the __my_dict__ dictionary using the __get()__ method, the following code would be used:"
   ]
  },
  {
   "cell_type": "code",
   "execution_count": 26,
   "metadata": {},
   "outputs": [
    {
     "data": {
      "text/plain": [
       "12"
      ]
     },
     "execution_count": 26,
     "metadata": {},
     "output_type": "execute_result"
    }
   ],
   "source": [
    "# Retrieve Carly's age\n",
    "\n",
    "my_dict.get('Carly')"
   ]
  },
  {
   "cell_type": "markdown",
   "metadata": {},
   "source": [
    "# Deleting Elements in a Dictionary"
   ]
  },
  {
   "cell_type": "markdown",
   "metadata": {},
   "source": [
    "## .pop( )"
   ]
  },
  {
   "cell_type": "markdown",
   "metadata": {},
   "source": [
    "To remove an element from a dictionary, we can use the __pop()__ method. The __pop()__ method will remove a specified key-value pair from a dictionary. The format for the __pop()__ method is, __dictionary_name.pop(key)__. The __pop()__ method will return the value of the key you are removing from the dictionary."
   ]
  },
  {
   "cell_type": "code",
   "execution_count": 27,
   "metadata": {},
   "outputs": [
    {
     "data": {
      "text/plain": [
       "5"
      ]
     },
     "execution_count": 27,
     "metadata": {},
     "output_type": "execute_result"
    }
   ],
   "source": [
    "# Remove 'Alex' from dictionary\n",
    "\n",
    "my_dict.pop('Alex') "
   ]
  },
  {
   "cell_type": "markdown",
   "metadata": {},
   "source": [
    "When we return our dictionary, we will see that 'Alex' is no longer included."
   ]
  },
  {
   "cell_type": "code",
   "execution_count": 28,
   "metadata": {},
   "outputs": [
    {
     "data": {
      "text/plain": [
       "{'Ben': 10, 'Carly': 12, 'Danielle': 7, 'Evan': 6}"
      ]
     },
     "execution_count": 28,
     "metadata": {},
     "output_type": "execute_result"
    }
   ],
   "source": [
    "my_dict"
   ]
  },
  {
   "cell_type": "markdown",
   "metadata": {},
   "source": [
    "## .popitem( )"
   ]
  },
  {
   "cell_type": "markdown",
   "metadata": {},
   "source": [
    "The __popitem( )__ function removes the last key-value pair ina dictionary. We can see above that the last key-value pair in the __my_dict__ dictionary is __'Evan' : 6__. The __popitem( )__ function will return __'Evan' : 6__ and remove it from the __my_dict__ dictionary."
   ]
  },
  {
   "cell_type": "code",
   "execution_count": 29,
   "metadata": {},
   "outputs": [
    {
     "data": {
      "text/plain": [
       "('Evan', 6)"
      ]
     },
     "execution_count": 29,
     "metadata": {},
     "output_type": "execute_result"
    }
   ],
   "source": [
    "my_dict.popitem()"
   ]
  },
  {
   "cell_type": "markdown",
   "metadata": {},
   "source": [
    "When we print the __my_dict__ dictionary, you will see that __'Evan' : 6__ is no longer in the dictionary."
   ]
  },
  {
   "cell_type": "code",
   "execution_count": 30,
   "metadata": {},
   "outputs": [
    {
     "data": {
      "text/plain": [
       "{'Ben': 10, 'Carly': 12, 'Danielle': 7}"
      ]
     },
     "execution_count": 30,
     "metadata": {},
     "output_type": "execute_result"
    }
   ],
   "source": [
    "my_dict"
   ]
  },
  {
   "cell_type": "markdown",
   "metadata": {},
   "source": [
    "The __del__ keyword can also be used to remove an item from a dictionary. The format to delete an item from a dictionary using __del__ is, __del dictionary_name[key]__. No value is returned when using the __del__ method."
   ]
  },
  {
   "cell_type": "code",
   "execution_count": 31,
   "metadata": {},
   "outputs": [],
   "source": [
    "del my_dict['Ben']  "
   ]
  },
  {
   "cell_type": "markdown",
   "metadata": {},
   "source": [
    "When you print the __my_dict__ dictionary, you will see that __'Ben' : 10__ is no longer in the dictionary."
   ]
  },
  {
   "cell_type": "code",
   "execution_count": 32,
   "metadata": {},
   "outputs": [
    {
     "data": {
      "text/plain": [
       "{'Carly': 12, 'Danielle': 7}"
      ]
     },
     "execution_count": 32,
     "metadata": {},
     "output_type": "execute_result"
    }
   ],
   "source": [
    "my_dict"
   ]
  },
  {
   "cell_type": "markdown",
   "metadata": {},
   "source": [
    "We can see that 'Ben' is no longer included in the __my_dict__ dictionary. If we wanted to delete all the items in a dictionary, we could use the __clear()__ function. It will remove all key-value pairs from a dictionary."
   ]
  },
  {
   "cell_type": "code",
   "execution_count": 33,
   "metadata": {},
   "outputs": [],
   "source": [
    "# Empty dictionary\n",
    "\n",
    "my_dict.clear()"
   ]
  },
  {
   "cell_type": "markdown",
   "metadata": {},
   "source": [
    "To check that the dictionary is empty, we will call the dictionary."
   ]
  },
  {
   "cell_type": "code",
   "execution_count": 34,
   "metadata": {},
   "outputs": [
    {
     "data": {
      "text/plain": [
       "{}"
      ]
     },
     "execution_count": 34,
     "metadata": {},
     "output_type": "execute_result"
    }
   ],
   "source": [
    "my_dict"
   ]
  },
  {
   "cell_type": "markdown",
   "metadata": {},
   "source": [
    "To delete a dictionary entirerly you can use the __del__ keyword followed by the dictionary name."
   ]
  },
  {
   "cell_type": "code",
   "execution_count": 35,
   "metadata": {},
   "outputs": [],
   "source": [
    "del my_dict"
   ]
  },
  {
   "cell_type": "markdown",
   "metadata": {},
   "source": [
    "When you print the dictionary, __my_dict__, Python will raise an error since the dictionary no longer exists."
   ]
  },
  {
   "cell_type": "code",
   "execution_count": 36,
   "metadata": {},
   "outputs": [
    {
     "ename": "NameError",
     "evalue": "name 'my_dict' is not defined",
     "output_type": "error",
     "traceback": [
      "\u001b[0;31m---------------------------------------------------------------------------\u001b[0m",
      "\u001b[0;31mNameError\u001b[0m                                 Traceback (most recent call last)",
      "\u001b[0;32m<ipython-input-36-23f353dd2d1f>\u001b[0m in \u001b[0;36m<module>\u001b[0;34m\u001b[0m\n\u001b[0;32m----> 1\u001b[0;31m \u001b[0mmy_dict\u001b[0m\u001b[0;34m\u001b[0m\u001b[0;34m\u001b[0m\u001b[0m\n\u001b[0m",
      "\u001b[0;31mNameError\u001b[0m: name 'my_dict' is not defined"
     ]
    }
   ],
   "source": [
    "my_dict"
   ]
  },
  {
   "cell_type": "markdown",
   "metadata": {},
   "source": [
    "## Adding Elements to a Dictionary"
   ]
  },
  {
   "cell_type": "markdown",
   "metadata": {},
   "source": [
    "Since we just deleted the dictionary, __my_dict__ we will run the code to create the dictionary used earlier."
   ]
  },
  {
   "cell_type": "code",
   "execution_count": 43,
   "metadata": {},
   "outputs": [
    {
     "data": {
      "text/plain": [
       "{'Alex': 5, 'Ben': 10, 'Carly': 12, 'Danielle': 7, 'Evan': 6}"
      ]
     },
     "execution_count": 43,
     "metadata": {},
     "output_type": "execute_result"
    }
   ],
   "source": [
    "# Create a dictionary\n",
    "\n",
    "my_dict = {'Alex': 5,\n",
    "           'Ben' : 10,\n",
    "           'Carly': 12,\n",
    "           'Danielle': 7,\n",
    "           'Evan' : 6}\n",
    "my_dict"
   ]
  },
  {
   "cell_type": "markdown",
   "metadata": {},
   "source": [
    "To add an item to a dictionary you would use the assignment opperator and the format __dictionary_name[key] = value__. The following code adds another child, 'Sam', to the dictionary, who is age 10."
   ]
  },
  {
   "cell_type": "code",
   "execution_count": 44,
   "metadata": {},
   "outputs": [
    {
     "data": {
      "text/plain": [
       "{'Alex': 5, 'Ben': 10, 'Carly': 12, 'Danielle': 7, 'Evan': 6, 'Sam': 10}"
      ]
     },
     "execution_count": 44,
     "metadata": {},
     "output_type": "execute_result"
    }
   ],
   "source": [
    "# Add Sam, age 10 to the dictionary\n",
    "\n",
    "my_dict['Sam'] = 10\n",
    "\n",
    "my_dict"
   ]
  },
  {
   "cell_type": "markdown",
   "metadata": {},
   "source": [
    "We can see that 'Sam' is now included in the dictionary. To add a key-value pair to a dictionary, you can use __update( )__ function. The below code adds, Fred, age 8 to the __my_dict__ dictionary."
   ]
  },
  {
   "cell_type": "code",
   "execution_count": 45,
   "metadata": {},
   "outputs": [],
   "source": [
    "my_dict.update(Fred = 8)"
   ]
  },
  {
   "cell_type": "markdown",
   "metadata": {},
   "source": [
    "Notice that __Fred__ is not wrapped in quotation marks when using the __update( )__ function. When we return the dictionary we can see that Fred has been added to the __my_dict__ dictionary."
   ]
  },
  {
   "cell_type": "code",
   "execution_count": 46,
   "metadata": {},
   "outputs": [
    {
     "data": {
      "text/plain": [
       "{'Alex': 5,\n",
       " 'Ben': 10,\n",
       " 'Carly': 12,\n",
       " 'Danielle': 7,\n",
       " 'Evan': 6,\n",
       " 'Sam': 10,\n",
       " 'Fred': 8}"
      ]
     },
     "execution_count": 46,
     "metadata": {},
     "output_type": "execute_result"
    }
   ],
   "source": [
    "my_dict"
   ]
  },
  {
   "cell_type": "markdown",
   "metadata": {},
   "source": [
    "# Updating Elements in a Dictionary"
   ]
  },
  {
   "cell_type": "markdown",
   "metadata": {},
   "source": [
    "To update the value of an existing key within a dictionary you would simply assign the key a new value. To do this the format is, __dictionary_name[key] = new value__. To change Danielle's age from 7 to 8, we could use the following code:"
   ]
  },
  {
   "cell_type": "code",
   "execution_count": 47,
   "metadata": {},
   "outputs": [
    {
     "data": {
      "text/plain": [
       "{'Alex': 5,\n",
       " 'Ben': 10,\n",
       " 'Carly': 12,\n",
       " 'Danielle': 8,\n",
       " 'Evan': 6,\n",
       " 'Sam': 10,\n",
       " 'Fred': 8}"
      ]
     },
     "execution_count": 47,
     "metadata": {},
     "output_type": "execute_result"
    }
   ],
   "source": [
    "# Change Danielle's age from 7 to 8\n",
    "\n",
    "my_dict['Danielle'] = 8\n",
    "\n",
    "my_dict"
   ]
  },
  {
   "cell_type": "markdown",
   "metadata": {},
   "source": [
    "To update an existing key in a dictionary, the __update( )__ function can also be used. The below code will update Ben's age to 11 and Danielle's age to 9."
   ]
  },
  {
   "cell_type": "code",
   "execution_count": 50,
   "metadata": {},
   "outputs": [
    {
     "data": {
      "text/plain": [
       "{'Alex': 5,\n",
       " 'Ben': 11,\n",
       " 'Carly': 12,\n",
       " 'Danielle': 9,\n",
       " 'Evan': 6,\n",
       " 'Sam': 10,\n",
       " 'Fred': 8}"
      ]
     },
     "execution_count": 50,
     "metadata": {},
     "output_type": "execute_result"
    }
   ],
   "source": [
    "my_dict.update(Ben = 11, Danielle = 9)\n",
    "\n",
    "my_dict"
   ]
  },
  {
   "cell_type": "markdown",
   "metadata": {},
   "source": [
    "## Viewing Items, Keys and Values in a Dictionary"
   ]
  },
  {
   "cell_type": "code",
   "execution_count": 52,
   "metadata": {},
   "outputs": [
    {
     "data": {
      "text/plain": [
       "dict_items([('Alex', 5), ('Ben', 11), ('Carly', 12), ('Danielle', 9), ('Evan', 6), ('Sam', 10), ('Fred', 8)])"
      ]
     },
     "execution_count": 52,
     "metadata": {},
     "output_type": "execute_result"
    }
   ],
   "source": [
    "my_dict.items()"
   ]
  },
  {
   "cell_type": "code",
   "execution_count": 53,
   "metadata": {},
   "outputs": [
    {
     "data": {
      "text/plain": [
       "dict_keys(['Alex', 'Ben', 'Carly', 'Danielle', 'Evan', 'Sam', 'Fred'])"
      ]
     },
     "execution_count": 53,
     "metadata": {},
     "output_type": "execute_result"
    }
   ],
   "source": [
    "my_dict.keys()"
   ]
  },
  {
   "cell_type": "code",
   "execution_count": 54,
   "metadata": {},
   "outputs": [
    {
     "data": {
      "text/plain": [
       "dict_values([5, 11, 12, 9, 6, 10, 8])"
      ]
     },
     "execution_count": 54,
     "metadata": {},
     "output_type": "execute_result"
    }
   ],
   "source": [
    "my_dict.values()"
   ]
  },
  {
   "cell_type": "code",
   "execution_count": 57,
   "metadata": {},
   "outputs": [
    {
     "name": "stdout",
     "output_type": "stream",
     "text": [
      "Key: Alex\n",
      "Value: 5\n",
      "Key: Ben\n",
      "Value: 11\n",
      "Key: Carly\n",
      "Value: 12\n",
      "Key: Danielle\n",
      "Value: 9\n",
      "Key: Evan\n",
      "Value: 6\n",
      "Key: Sam\n",
      "Value: 10\n",
      "Key: Fred\n",
      "Value: 8\n"
     ]
    }
   ],
   "source": [
    "for key, value in my_dict.items():\n",
    "    print('Key:', key)\n",
    "    print('Value:', value)"
   ]
  },
  {
   "cell_type": "code",
   "execution_count": null,
   "metadata": {},
   "outputs": [],
   "source": []
  },
  {
   "cell_type": "code",
   "execution_count": null,
   "metadata": {},
   "outputs": [],
   "source": []
  },
  {
   "cell_type": "markdown",
   "metadata": {},
   "source": [
    "# Iterating Through a Dictionary"
   ]
  },
  {
   "cell_type": "markdown",
   "metadata": {},
   "source": [
    "To iterate through the key-value pairs in a dictionary, you can use a simple for loop."
   ]
  },
  {
   "cell_type": "code",
   "execution_count": null,
   "metadata": {},
   "outputs": [],
   "source": [
    "for item in my_dict.items():\n",
    "    print(item)"
   ]
  },
  {
   "cell_type": "code",
   "execution_count": null,
   "metadata": {},
   "outputs": [],
   "source": [
    "for name in my_dict.keys():\n",
    "    print(name)"
   ]
  },
  {
   "cell_type": "code",
   "execution_count": null,
   "metadata": {},
   "outputs": [],
   "source": [
    "for age in my_dict.values():\n",
    "    print(age)"
   ]
  },
  {
   "cell_type": "code",
   "execution_count": null,
   "metadata": {},
   "outputs": [],
   "source": []
  }
 ],
 "metadata": {
  "kernelspec": {
   "display_name": "Python 3",
   "language": "python",
   "name": "python3"
  },
  "language_info": {
   "codemirror_mode": {
    "name": "ipython",
    "version": 3
   },
   "file_extension": ".py",
   "mimetype": "text/x-python",
   "name": "python",
   "nbconvert_exporter": "python",
   "pygments_lexer": "ipython3",
   "version": "3.7.3"
  }
 },
 "nbformat": 4,
 "nbformat_minor": 2
}
